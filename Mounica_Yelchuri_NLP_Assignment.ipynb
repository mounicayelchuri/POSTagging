{
 "cells": [
  {
   "cell_type": "markdown",
   "metadata": {},
   "source": [
    "## Assignment - Syntactic Analysis"
   ]
  },
  {
   "cell_type": "markdown",
   "metadata": {},
   "source": [
    "## Problem Statement\n"
   ]
  },
  {
   "cell_type": "markdown",
   "metadata": {},
   "source": [
    "### Issue with HMMs and Viterbi algorithm for POS tagging"
   ]
  },
  {
   "cell_type": "markdown",
   "metadata": {},
   "source": [
    "The vanilla Viterbi algorithm had resulted in ~87% accuracy. The approx. 13% loss of accuracy was majorly due to the fact that when the algorithm encountered an unknown word (i.e. not present in the training set, such as 'Twitter'), it assigned an incorrect tag arbitrarily. **This is because, for unknown words, the emission probabilities for all candidate tags are 0**, so the algorithm arbitrarily chooses (the first) tag."
   ]
  },
  {
   "cell_type": "markdown",
   "metadata": {},
   "source": [
    "#### Following approaches are used to solve the above problem:\n",
    "- Most Frequent tag in the training set\n",
    "- Based on Morphological cues\n",
    "- Ignore emission probability incase of unknown words\n",
    "- Laplace smoothing for unknown words"
   ]
  },
  {
   "cell_type": "markdown",
   "metadata": {},
   "source": [
    "### Data Description"
   ]
  },
  {
   "cell_type": "markdown",
   "metadata": {},
   "source": [
    "Treebank dataset is tagged with following 12 tags :\n",
    "1. **VERB** - verbs (all tenses and modes)\n",
    "2. **NOUN** - nouns (common and proper)\n",
    "3. **PRON** - pronouns \n",
    "4. **ADJ** - adjectives\n",
    "5. **ADV** - adverbs\n",
    "6. **ADP** - adpositions (prepositions and postpositions)\n",
    "7. **CONJ** - conjunctions\n",
    "8. **DET** - determiners\n",
    "9. **NUM** - cardinal numbers\n",
    "10. **PRT** - particles or other function words\n",
    "11. **X** - other: foreign words, typos, abbreviations\n",
    "12. **.** - punctuation"
   ]
  },
  {
   "cell_type": "markdown",
   "metadata": {},
   "source": [
    "### Data Preparation"
   ]
  },
  {
   "cell_type": "code",
   "execution_count": 219,
   "metadata": {},
   "outputs": [],
   "source": [
    "#Importing libraries\n",
    "import nltk\n",
    "import random\n",
    "import numpy as np\n",
    "from sklearn.model_selection import train_test_split\n",
    "import pandas as pd\n",
    "import matplotlib.pyplot as plt\n",
    "import seaborn as sns\n",
    "import pprint, time\n",
    "from collections import Counter"
   ]
  },
  {
   "cell_type": "code",
   "execution_count": 220,
   "metadata": {},
   "outputs": [
    {
     "name": "stderr",
     "output_type": "stream",
     "text": [
      "[nltk_data] Downloading package universal_tagset to\n",
      "[nltk_data]     C:\\Users\\mouni\\AppData\\Roaming\\nltk_data...\n",
      "[nltk_data]   Package universal_tagset is already up-to-date!\n"
     ]
    },
    {
     "data": {
      "text/plain": [
       "True"
      ]
     },
     "execution_count": 220,
     "metadata": {},
     "output_type": "execute_result"
    }
   ],
   "source": [
    "# Download the universal tag set\n",
    "nltk.download('universal_tagset')"
   ]
  },
  {
   "cell_type": "code",
   "execution_count": 221,
   "metadata": {},
   "outputs": [],
   "source": [
    "# reading the Treebank tagged sentences\n",
    "nltk_data = list(nltk.corpus.treebank.tagged_sents(tagset='universal'))"
   ]
  },
  {
   "cell_type": "code",
   "execution_count": 222,
   "metadata": {},
   "outputs": [
    {
     "data": {
      "text/plain": [
       "3914"
      ]
     },
     "execution_count": 222,
     "metadata": {},
     "output_type": "execute_result"
    }
   ],
   "source": [
    "len(nltk_data) "
   ]
  },
  {
   "cell_type": "markdown",
   "metadata": {},
   "source": [
    "Data has 3914 sentences."
   ]
  },
  {
   "cell_type": "code",
   "execution_count": 223,
   "metadata": {},
   "outputs": [
    {
     "data": {
      "text/plain": [
       "[('Pierre', 'NOUN'),\n",
       " ('Vinken', 'NOUN'),\n",
       " (',', '.'),\n",
       " ('61', 'NUM'),\n",
       " ('years', 'NOUN'),\n",
       " ('old', 'ADJ'),\n",
       " (',', '.'),\n",
       " ('will', 'VERB'),\n",
       " ('join', 'VERB'),\n",
       " ('the', 'DET'),\n",
       " ('board', 'NOUN'),\n",
       " ('as', 'ADP'),\n",
       " ('a', 'DET'),\n",
       " ('nonexecutive', 'ADJ'),\n",
       " ('director', 'NOUN'),\n",
       " ('Nov.', 'NOUN'),\n",
       " ('29', 'NUM'),\n",
       " ('.', '.')]"
      ]
     },
     "execution_count": 223,
     "metadata": {},
     "output_type": "execute_result"
    }
   ],
   "source": [
    "# checking the data of first sentence\n",
    "nltk_data[0]"
   ]
  },
  {
   "cell_type": "code",
   "execution_count": 224,
   "metadata": {},
   "outputs": [],
   "source": [
    "#Splitting the data into train and test set\n",
    "random.seed(1234)\n",
    "train_set,test_set= train_test_split(nltk_data,test_size=0.05,random_state=10)"
   ]
  },
  {
   "cell_type": "code",
   "execution_count": 225,
   "metadata": {},
   "outputs": [
    {
     "data": {
      "text/plain": [
       "3718"
      ]
     },
     "execution_count": 225,
     "metadata": {},
     "output_type": "execute_result"
    }
   ],
   "source": [
    "len(train_set)"
   ]
  },
  {
   "cell_type": "code",
   "execution_count": 226,
   "metadata": {},
   "outputs": [
    {
     "data": {
      "text/plain": [
       "196"
      ]
     },
     "execution_count": 226,
     "metadata": {},
     "output_type": "execute_result"
    }
   ],
   "source": [
    "len(test_set)"
   ]
  },
  {
   "cell_type": "code",
   "execution_count": 227,
   "metadata": {},
   "outputs": [
    {
     "data": {
      "text/plain": [
       "95440"
      ]
     },
     "execution_count": 227,
     "metadata": {},
     "output_type": "execute_result"
    }
   ],
   "source": [
    "# Combining all the words in sentences of train set \n",
    "train_tagged_words = [tup for sent in train_set for tup in sent]\n",
    "len(train_tagged_words)"
   ]
  },
  {
   "cell_type": "code",
   "execution_count": 228,
   "metadata": {},
   "outputs": [],
   "source": [
    "# get all the words of train set\n",
    "tokens = [pair[0] for pair in train_tagged_words]"
   ]
  },
  {
   "cell_type": "code",
   "execution_count": 229,
   "metadata": {},
   "outputs": [
    {
     "name": "stdout",
     "output_type": "stream",
     "text": [
      "12007\n"
     ]
    }
   ],
   "source": [
    "# Get all unique words of train data to generate the vocabulary\n",
    "V = set(tokens)\n",
    "print(len(V))"
   ]
  },
  {
   "cell_type": "code",
   "execution_count": 230,
   "metadata": {},
   "outputs": [
    {
     "data": {
      "text/plain": [
       "12"
      ]
     },
     "execution_count": 230,
     "metadata": {},
     "output_type": "execute_result"
    }
   ],
   "source": [
    "# get all unique tags present in train data\n",
    "T = set([pair[1] for pair in train_tagged_words])\n",
    "len(T)"
   ]
  },
  {
   "cell_type": "code",
   "execution_count": 231,
   "metadata": {},
   "outputs": [
    {
     "name": "stdout",
     "output_type": "stream",
     "text": [
      "{'ADV', '.', 'X', 'CONJ', 'NUM', 'ADJ', 'NOUN', 'ADP', 'DET', 'VERB', 'PRT', 'PRON'}\n"
     ]
    }
   ],
   "source": [
    "print(T)"
   ]
  },
  {
   "cell_type": "markdown",
   "metadata": {},
   "source": [
    "#### HMMs and Viterbi algorithm for POS tagging\n",
    "\n",
    "We'll use the HMM algorithm to tag the words. Given a sequence of words to be tagged, the task is to assign the most probable tag to the word. \n",
    "\n",
    "In other words, to every word w, assign the tag t that maximises the likelihood P(t/w). Since P(t/w) = P(w/t). P(t) / P(w), after ignoring P(w), we have to compute P(w/t) and P(t)."
   ]
  },
  {
   "cell_type": "markdown",
   "metadata": {},
   "source": [
    "**Emission probability :** The probability of occurance of word given the tag.<br>\n",
    "> P(w/t) = count(w, t) / count(t) where count(w,t) refers to number of times word and tag appeared together in train dataset."
   ]
  },
  {
   "cell_type": "markdown",
   "metadata": {},
   "source": [
    "**Transition Probability:** Probability of tag given the previous tag\n",
    " The term P(t) is the probability of tag t, and in a tagging task, we assume that a tag will depend only on the previous tag. In other words, the probability of a tag being NN will depend only on the previous tag t(n-1)."
   ]
  },
  {
   "cell_type": "markdown",
   "metadata": {},
   "source": [
    "### Emission Probabilities"
   ]
  },
  {
   "cell_type": "markdown",
   "metadata": {},
   "source": [
    "#### Create three helper dictionaries which can help to reduce the computation time\n",
    "- tag_and_words : Dictionary which has tag as key and list of words as value\n",
    "- tag_counters : Dictionary which stores the tag as key and counter object of words in value\n",
    "- tag_counts : Dictionary which stores the tag as key and count of the words having the tag in value"
   ]
  },
  {
   "cell_type": "code",
   "execution_count": 232,
   "metadata": {},
   "outputs": [],
   "source": [
    "tag_and_words={}\n",
    "tag_counters={}\n",
    "tag_counts={}\n",
    "for tag in T:\n",
    "    words=[pair[0] for pair in train_tagged_words if pair[1]==tag] # Get all the words for the tag\n",
    "    tag_and_words[tag]=words  # we will be storing  all the words in dictionary for tag in tag_and_words dictionary \n",
    "    tag_counters[tag]=Counter(words) # save the counter object for the words in tag_counters\n",
    "    tag_counts[tag]=len(words) # save the length of words in tag_counts dictionary against tag"
   ]
  },
  {
   "cell_type": "code",
   "execution_count": 233,
   "metadata": {},
   "outputs": [],
   "source": [
    "# compute word given tag: Emission Probability\n",
    "def word_given_tag(word, tag, train_bag = train_tagged_words): \n",
    "    count_tag = tag_counts[tag]  # get number of words having the tag from tag_counts dictionary\n",
    "    count=tag_counters[tag].get(word) # get the count of word from the counter \n",
    "    if count!=None: # Counter returns none if the word is not available in the train set.\n",
    "        count_w_given_tag = count\n",
    "    else:\n",
    "        count_w_given_tag=0  # AS the word is not available for that tag, we return 0  \n",
    "    return (count_w_given_tag, count_tag)"
   ]
  },
  {
   "cell_type": "markdown",
   "metadata": {},
   "source": [
    "### Transition Probabilities"
   ]
  },
  {
   "cell_type": "markdown",
   "metadata": {},
   "source": [
    "**t2_given_t1** method computes the probability of t2 tag given that previous tag was t1"
   ]
  },
  {
   "cell_type": "code",
   "execution_count": 234,
   "metadata": {},
   "outputs": [],
   "source": [
    "def t2_given_t1(t2, t1,tags): \n",
    "    count_t1 = tag_counts[t1] # get the count from precomputed tag_counts dictionary\n",
    "    count_t2_t1 = 0\n",
    "    for index in range(len(tags)-1): #loop over each tag in training set,check if the current tag is t1 and next tag is t2 \n",
    "        if tags[index]==t1 and tags[index+1] == t2:\n",
    "            count_t2_t1 += 1   # increment the count\n",
    "    return (count_t2_t1,count_t1)"
   ]
  },
  {
   "cell_type": "code",
   "execution_count": 235,
   "metadata": {},
   "outputs": [],
   "source": [
    "tags_matrix = np.zeros((len(T), len(T)), dtype='float32') #create 12*12 matrix\n",
    "tags = [pair[1] for pair in train_tagged_words] # get list of tags in training set\n",
    "for i, t1 in enumerate(list(T)): # for every tag compute the count of tag followed and store it in tags_matrix\n",
    "    for j, t2 in enumerate(list(T)): \n",
    "        count_t2_t1, count_t1=t2_given_t1(t2, t1,tags) \n",
    "        tags_matrix[i, j] = count_t2_t1/count_t1"
   ]
  },
  {
   "cell_type": "code",
   "execution_count": 236,
   "metadata": {},
   "outputs": [],
   "source": [
    "# create dataframe and check the results\n",
    "tags_df = pd.DataFrame(tags_matrix, columns = list(T), index=list(T)) "
   ]
  },
  {
   "cell_type": "code",
   "execution_count": 237,
   "metadata": {},
   "outputs": [
    {
     "data": {
      "image/png": "[encoded data removed]",
      "text/plain": [
       "<Figure size 864x576 with 2 Axes>"
      ]
     },
     "metadata": {
      "needs_background": "light"
     },
     "output_type": "display_data"
    }
   ],
   "source": [
    "# heatmap of tags matrix\n",
    "# T(i, j) means P(tag j given tag i)\n",
    "plt.figure(figsize=(12, 8))\n",
    "sns.heatmap(tags_df,annot=True)\n",
    "plt.show()"
   ]
  },
  {
   "cell_type": "markdown",
   "metadata": {},
   "source": [
    "**Patterns seen:**\n",
    "- Probability of DET or ADJ followed by NOUN is high\n",
    "- PRONOUN is mostly followed by verb or noun\n",
    "- PRT is mostly followed by verb\n",
    "- Adverb is mostly followed by verb\n",
    "- conj is mostly followed by NOUN\n",
    "- Noun mostly follows either Noun or ."
   ]
  },
  {
   "cell_type": "markdown",
   "metadata": {},
   "source": [
    "###  Viterbi based POS tagger with modifications"
   ]
  },
  {
   "cell_type": "markdown",
   "metadata": {},
   "source": [
    "#### Intution for viterbi modification with most frequent tag for unkown words\n",
    " > 1. For every word ,loop over all the tags and calcualte probabilities.\n",
    " > 2. Get the maximum of these probabilites , if the max value is zero . That means word is unknown to the dataset\n",
    " > 3. Use the getFrequentToken method and get the most frequent tag and use it for all unknown words"
   ]
  },
  {
   "cell_type": "code",
   "execution_count": 238,
   "metadata": {},
   "outputs": [],
   "source": [
    "def getFrequentToken(train_bag):\n",
    "    tags=[tup[1] for tup in train_bag] # get all tags of training set\n",
    "    tags_count=Counter(tags).most_common() # returns the list of tuple with tag and their counts in descending order\n",
    "    tag= tags_count[0][0] # select the first tuple and select the tag from it    \n",
    "    return tag"
   ]
  },
  {
   "cell_type": "markdown",
   "metadata": {},
   "source": [
    "#### Intution for viterbi modification with rule based tagging for unkown words\n",
    " > 1. For every word ,loop over all the tags and calcualte probabilities.\n",
    " > 2. Get the maximum of these probabilites , if the max value is zero . That means word is unknown to the dataset\n",
    " > 3. For every unknown word, call the getRuleBasedTagger method and get the tag"
   ]
  },
  {
   "cell_type": "code",
   "execution_count": 239,
   "metadata": {},
   "outputs": [],
   "source": [
    "patterns = [\n",
    "    (r'.*(ing|ed)$', 'VERB'),              # words ending with ing or ed or es would be considered as verb\n",
    "    (r'.*(ly|ward|wise)s?$', 'ADV'),          # words ending with ly or ward or wise would be considered as adverbs\n",
    "    (r'^[0-9]+(.[0-9]+)?$', 'NUM'), # words with number would be considered as NUM\n",
    "    (r'.*\\*.*-?.*','X'), # words with - and * would be considered as X\n",
    "    (r'.*-?.*(ous|ful|able|al|less|ive|ish)$','ADJ'),#words ending with ous|ful|able|al|less|ive|ish would be adjectives\n",
    "    (r'.*', 'NOUN')                    # remaining would be considered as nouns\n",
    "]\n",
    "regexp_tagger = nltk.RegexpTagger(patterns)\n",
    "def getRuleBasedTagger(word):\n",
    "    l=[word]\n",
    "    tag=regexp_tagger.tag(l)[0][1]\n",
    "    return tag    "
   ]
  },
  {
   "cell_type": "markdown",
   "metadata": {},
   "source": [
    "#### Intution for viterbi modification with no emission probabilites for unkown words\n",
    " > 1. For every word ,loop over all the tags and store state_probability as well as  transition probability.\n",
    " > 2. Get the maximum of state probabilites , if the max value is zero . That means word is unknown to the training dataset.\n",
    " > 3. For every unknown word, get the maximum of transition probability and get the tag which has maximum transition probability"
   ]
  },
  {
   "cell_type": "markdown",
   "metadata": {},
   "source": [
    "#### Intution for viterbi modification with laplace smoothing for unkown words\n",
    "Emission probability  is calculated as count_of_word_given_tag/count_of_tag\n",
    " > - In case of unknown words, emission probability would be zero.\n",
    " > - In case of known word but with unknown tag , emission probability would be zero.<br>\n",
    " **Laplace smoothing** is used to make emission probability non-zero for all unknown cases. \n",
    " so , we use the following formula for getting emission probability :\n",
    ">>emission_p = (count_w_given_tag+1)/(count_tag+v) <br>\n",
    ">> we increment each word count by 1 , so for unknown words or known words with unknown tags , count would be 1 <br>\n",
    ">> We increment the count of tags by the size of vocabulary(len of unique words both in test set and train set) , since we are incrementing the count by 1 for both known words and unknown words "
   ]
  },
  {
   "cell_type": "code",
   "execution_count": 240,
   "metadata": {},
   "outputs": [],
   "source": [
    "def Viterbi(sents,modification=\"none\" ,train_bag = train_tagged_words):\n",
    "    cache_emission_prob={}\n",
    "    state = []\n",
    "    T = list(set([pair[1] for pair in train_bag])) # get all tags\n",
    "    train_words=[tup[0] for tup in train_tagged_words]  # get all words present in train set\n",
    "    test_words=[item for sublist in sents for item in sublist] # get all words of test set\n",
    "    train_words.extend(test_words) # concatenate both the lists\n",
    "    v=len(set(train_words)) # get the length of unique words both in test and train set\n",
    "    most_common_tag=None\n",
    "    words=[]\n",
    "    for key, sent in enumerate(sents):\n",
    "        #initialise list of probability column for a given observation\n",
    "        for word in sent:\n",
    "            words.append(word)\n",
    "            p = [] # list which stores  the probability for each tag for given word\n",
    "            transition_p_lis=[]\n",
    "            for tag in T:\n",
    "                if key == 0:\n",
    "                    transition_p = tags_df.loc['.', tag] # getting the transition probability of the starting tag\n",
    "                else:\n",
    "                    transition_p = tags_df.loc[state[-1], tag]  # getting the transition probability of the non starting tag\n",
    "                \n",
    "                # compute emission and state probabilities\n",
    "                if cache_emission_prob.get((word, tag))==None: # check if word has been traversed earlier or not\n",
    "                    count_w_given_tag, count_tag=word_given_tag(word, tag) # as it is new words, get the emission probability\n",
    "                    if modification=='laplace':\n",
    "                        emission_p = (count_w_given_tag+1)/(count_tag+v)\n",
    "                    else:\n",
    "                        emission_p = count_w_given_tag/count_tag\n",
    "                    \n",
    "                    cache_emission_prob[(word,tag)]=emission_p # store in the dictionary\n",
    "                else:\n",
    "                    emission_p=cache_emission_prob.get((word, tag)) # word has been parsed earlier, so get the emission prob from dict\n",
    "                state_probability = emission_p * transition_p   # calculate state probability \n",
    "                p.append(state_probability)\n",
    "                transition_p_lis.append(transition_p)\n",
    "                \n",
    "            pmax = max(p) # get maximum probability\n",
    "            state_max = T[p.index(pmax)] # get the tag which has maximum probability\n",
    "            if pmax==0 :  # if pmax is zero then word in unknown for training corpus         \n",
    "                if modification=='most_common_tag':\n",
    "                    if most_common_tag==None:\n",
    "                        state_max=getFrequentToken(train_bag) \n",
    "                        most_common_tag=state_max\n",
    "                    else:\n",
    "                        state_max=most_common_tag\n",
    "                elif modification=='rule_based':\n",
    "                    state_max=getRuleBasedTagger(word)\n",
    "                elif modification=='no_emission':\n",
    "                    transition_max=max(transition_p_lis)\n",
    "                    state_max = T[transition_p_lis.index(transition_max)]\n",
    "            state.append(state_max) # associate the tag with word\n",
    "    return list(zip(words, state))"
   ]
  },
  {
   "cell_type": "code",
   "execution_count": 241,
   "metadata": {},
   "outputs": [
    {
     "data": {
      "text/plain": [
       "196"
      ]
     },
     "execution_count": 241,
     "metadata": {},
     "output_type": "execute_result"
    }
   ],
   "source": [
    "len(test_set)"
   ]
  },
  {
   "cell_type": "code",
   "execution_count": 242,
   "metadata": {},
   "outputs": [],
   "source": [
    "# get list of sentences from test_set\n",
    "test_tagged_words=[]\n",
    "for sent in test_set:\n",
    "    l=[]\n",
    "    for tup in sent:\n",
    "        l.append(tup[0])\n",
    "    test_tagged_words.append(l)"
   ]
  },
  {
   "cell_type": "code",
   "execution_count": 243,
   "metadata": {},
   "outputs": [
    {
     "name": "stdout",
     "output_type": "stream",
     "text": [
      "5236\n"
     ]
    }
   ],
   "source": [
    "test=[words for words in test_tagged_words]\n",
    "len(test)\n",
    "t= [item for sublist in test for item in sublist]\n",
    "print(len(t))"
   ]
  },
  {
   "cell_type": "code",
   "execution_count": 244,
   "metadata": {},
   "outputs": [],
   "source": [
    "# tagging the test sentences\n",
    "start = time.time()\n",
    "tagged_seq = Viterbi(test_tagged_words)\n",
    "end = time.time()\n",
    "difference = end-start"
   ]
  },
  {
   "cell_type": "code",
   "execution_count": 245,
   "metadata": {},
   "outputs": [
    {
     "name": "stdout",
     "output_type": "stream",
     "text": [
      "Time taken to run the algorithm is 1.7163927555084229 seconds\n"
     ]
    }
   ],
   "source": [
    "print(\"Time taken to run the algorithm is {} seconds\".format(difference))"
   ]
  },
  {
   "cell_type": "code",
   "execution_count": 246,
   "metadata": {},
   "outputs": [],
   "source": [
    "test_run_base = [tup for sent in test_set for tup in sent]"
   ]
  },
  {
   "cell_type": "code",
   "execution_count": 247,
   "metadata": {},
   "outputs": [],
   "source": [
    "# accuracy\n",
    "check = [i for i, j in zip(tagged_seq, test_run_base) if i == j] "
   ]
  },
  {
   "cell_type": "code",
   "execution_count": 248,
   "metadata": {},
   "outputs": [
    {
     "data": {
      "text/plain": [
       "4690"
      ]
     },
     "execution_count": 248,
     "metadata": {},
     "output_type": "execute_result"
    }
   ],
   "source": [
    "len(check)"
   ]
  },
  {
   "cell_type": "code",
   "execution_count": 249,
   "metadata": {},
   "outputs": [],
   "source": [
    "accuracy = len(check)/len(test_run_base)"
   ]
  },
  {
   "cell_type": "code",
   "execution_count": 250,
   "metadata": {},
   "outputs": [
    {
     "data": {
      "text/plain": [
       "89.57219251336899"
      ]
     },
     "execution_count": 250,
     "metadata": {},
     "output_type": "execute_result"
    }
   ],
   "source": [
    "accuracy*100"
   ]
  },
  {
   "cell_type": "code",
   "execution_count": 251,
   "metadata": {},
   "outputs": [],
   "source": [
    "incorrect_tagged_vanilla_viterbi = [[test_run_base[i-1],j] for i, j in enumerate(zip(tagged_seq, test_run_base)) if j[0]!=j[1]]"
   ]
  },
  {
   "cell_type": "code",
   "execution_count": 252,
   "metadata": {},
   "outputs": [
    {
     "data": {
      "text/plain": [
       "546"
      ]
     },
     "execution_count": 252,
     "metadata": {},
     "output_type": "execute_result"
    }
   ],
   "source": [
    "len(incorrect_tagged_vanilla_viterbi)"
   ]
  },
  {
   "cell_type": "markdown",
   "metadata": {},
   "source": [
    "#### Evaluating tagging accuracy of modified algorithms"
   ]
  },
  {
   "cell_type": "code",
   "execution_count": 253,
   "metadata": {},
   "outputs": [],
   "source": [
    "# tagging the test sentences based on most common tag for unknown words\n",
    "start = time.time()\n",
    "tagged_seq = Viterbi(test_tagged_words,modification ='most_common_tag')\n",
    "end = time.time()\n",
    "difference = end-start"
   ]
  },
  {
   "cell_type": "code",
   "execution_count": 254,
   "metadata": {},
   "outputs": [
    {
     "name": "stdout",
     "output_type": "stream",
     "text": [
      "Time taken to run the algorithm is 1.643019437789917 seconds\n"
     ]
    }
   ],
   "source": [
    "print(\"Time taken to run the algorithm is {} seconds\".format(difference))"
   ]
  },
  {
   "cell_type": "code",
   "execution_count": 255,
   "metadata": {},
   "outputs": [],
   "source": [
    "check = [i for i, j in zip(tagged_seq, test_run_base) if i == j] "
   ]
  },
  {
   "cell_type": "code",
   "execution_count": 256,
   "metadata": {},
   "outputs": [
    {
     "data": {
      "text/plain": [
       "0.9407944996180291"
      ]
     },
     "execution_count": 256,
     "metadata": {},
     "output_type": "execute_result"
    }
   ],
   "source": [
    "accuracy = len(check)/len(test_run_base)\n",
    "accuracy"
   ]
  },
  {
   "cell_type": "code",
   "execution_count": 257,
   "metadata": {},
   "outputs": [],
   "source": [
    "incorrect_tagged_most_common = [[test_run_base[i-1],j] for i, j in enumerate(zip(tagged_seq, test_run_base)) if j[0]!=j[1]]"
   ]
  },
  {
   "cell_type": "code",
   "execution_count": 258,
   "metadata": {},
   "outputs": [],
   "source": [
    "# tagging the test sentences based on morphological rules for unknown words\n",
    "start = time.time()\n",
    "tagged_seq = Viterbi(test_tagged_words,modification ='rule_based')\n",
    "end = time.time()\n",
    "difference = end-start"
   ]
  },
  {
   "cell_type": "code",
   "execution_count": 259,
   "metadata": {},
   "outputs": [
    {
     "name": "stdout",
     "output_type": "stream",
     "text": [
      "Time taken to run the algorithm is 1.7902145385742188 seconds\n"
     ]
    }
   ],
   "source": [
    "print(\"Time taken to run the algorithm is {} seconds\".format(difference))"
   ]
  },
  {
   "cell_type": "code",
   "execution_count": 260,
   "metadata": {},
   "outputs": [],
   "source": [
    "check = [i for i, j in zip(tagged_seq, test_run_base) if i == j] "
   ]
  },
  {
   "cell_type": "code",
   "execution_count": 261,
   "metadata": {},
   "outputs": [
    {
     "data": {
      "text/plain": [
       "0.9589381207028266"
      ]
     },
     "execution_count": 261,
     "metadata": {},
     "output_type": "execute_result"
    }
   ],
   "source": [
    "accuracy = len(check)/len(test_run_base)\n",
    "accuracy"
   ]
  },
  {
   "cell_type": "code",
   "execution_count": 262,
   "metadata": {},
   "outputs": [],
   "source": [
    "incorrect_tagged_rule_based = [[test_run_base[i-1],j] for i, j in enumerate(zip(tagged_seq, test_run_base)) if j[0]!=j[1]]"
   ]
  },
  {
   "cell_type": "code",
   "execution_count": 263,
   "metadata": {},
   "outputs": [],
   "source": [
    "# tagging the test sentences based on laplace smoothing for unknown words\n",
    "start = time.time()\n",
    "tagged_seq = Viterbi(test_tagged_words,modification ='laplace')\n",
    "end = time.time()\n",
    "difference = end-start"
   ]
  },
  {
   "cell_type": "code",
   "execution_count": 264,
   "metadata": {},
   "outputs": [
    {
     "name": "stdout",
     "output_type": "stream",
     "text": [
      "Time taken to run the algorithm is 1.76289701461792 seconds\n"
     ]
    }
   ],
   "source": [
    "print(\"Time taken to run the algorithm is {} seconds\".format(difference))"
   ]
  },
  {
   "cell_type": "code",
   "execution_count": 265,
   "metadata": {},
   "outputs": [],
   "source": [
    "check = [i for i, j in zip(tagged_seq, test_run_base) if i == j] "
   ]
  },
  {
   "cell_type": "code",
   "execution_count": 266,
   "metadata": {},
   "outputs": [
    {
     "data": {
      "text/plain": [
       "0.8896103896103896"
      ]
     },
     "execution_count": 266,
     "metadata": {},
     "output_type": "execute_result"
    }
   ],
   "source": [
    "accuracy = len(check)/len(test_run_base)\n",
    "accuracy"
   ]
  },
  {
   "cell_type": "code",
   "execution_count": 267,
   "metadata": {},
   "outputs": [],
   "source": [
    "incorrect_tagged_laplace= [[test_run_base[i-1],j] for i, j in enumerate(zip(tagged_seq, test_run_base)) if j[0]!=j[1]]"
   ]
  },
  {
   "cell_type": "code",
   "execution_count": 268,
   "metadata": {},
   "outputs": [],
   "source": [
    "# tagging the test sentences based on laplace smoothing for unknown words\n",
    "start = time.time()\n",
    "tagged_seq = Viterbi(test_tagged_words,modification ='no_emission')\n",
    "end = time.time()\n",
    "difference = end-start"
   ]
  },
  {
   "cell_type": "code",
   "execution_count": 269,
   "metadata": {},
   "outputs": [
    {
     "name": "stdout",
     "output_type": "stream",
     "text": [
      "Time taken to run the algorithm is 1.8651258945465088 seconds\n"
     ]
    }
   ],
   "source": [
    "print(\"Time taken to run the algorithm is {} seconds\".format(difference))"
   ]
  },
  {
   "cell_type": "code",
   "execution_count": 270,
   "metadata": {},
   "outputs": [],
   "source": [
    "check = [i for i, j in zip(tagged_seq, test_run_base) if i == j] "
   ]
  },
  {
   "cell_type": "code",
   "execution_count": 271,
   "metadata": {},
   "outputs": [
    {
     "data": {
      "text/plain": [
       "0.9400305576776165"
      ]
     },
     "execution_count": 271,
     "metadata": {},
     "output_type": "execute_result"
    }
   ],
   "source": [
    "accuracy = len(check)/len(test_run_base)\n",
    "accuracy"
   ]
  },
  {
   "cell_type": "code",
   "execution_count": 272,
   "metadata": {},
   "outputs": [],
   "source": [
    "incorrect_tagged_probabilistic= [[test_run_base[i-1],j] for i, j in enumerate(zip(tagged_seq, test_run_base)) if j[0]!=j[1]]"
   ]
  },
  {
   "cell_type": "markdown",
   "metadata": {},
   "source": [
    "### Compare the tagging accuracies of the modifications with the vanilla Viterbi algorithm"
   ]
  },
  {
   "cell_type": "markdown",
   "metadata": {},
   "source": [
    "- Accuracy of vanilla viterbi algorithm is 90%\n",
    "- Accuracy of viterbi algorithm with most frequent tag for unknown words is 94.07%\n",
    "- Accuracy of viterbi algorithm with morphological cues for unknown words is **95.98%**\n",
    "- Accuracy of viterbi algorithm without considering emission probability for unknown words is 94%\n",
    "- Accuracy of viterbi algorithm wit laplace smoothing for unknown words is 88.96%"
   ]
  },
  {
   "cell_type": "markdown",
   "metadata": {},
   "source": [
    "**Reason for laplace smoothing to be underperforming :**\n",
    "> We are assigning  non-zero probability for unknown words as well as word with unknown tags.\n",
    "> As the vocab size is too large , it will create sparse matrix with rows as vocabulary and tags as columns . Since we are have to fill all the cells of matrix , it would reduce the weights of orginal tags to make it balanced with others. Hence Laplace smoothing is not right approach for this usecase."
   ]
  },
  {
   "cell_type": "markdown",
   "metadata": {},
   "source": [
    "### POS tagging for test sentences"
   ]
  },
  {
   "cell_type": "code",
   "execution_count": 273,
   "metadata": {},
   "outputs": [],
   "source": [
    "test_df= pd.read_csv('Test_sentences.txt',sep='\\t',header=None,names=[\"sentences\"])"
   ]
  },
  {
   "cell_type": "code",
   "execution_count": 274,
   "metadata": {},
   "outputs": [
    {
     "data": {
      "text/html": [
       "<div>\n",
       "<style scoped>\n",
       "    .dataframe tbody tr th:only-of-type {\n",
       "        vertical-align: middle;\n",
       "    }\n",
       "\n",
       "    .dataframe tbody tr th {\n",
       "        vertical-align: top;\n",
       "    }\n",
       "\n",
       "    .dataframe thead th {\n",
       "        text-align: right;\n",
       "    }\n",
       "</style>\n",
       "<table border=\"1\" class=\"dataframe\">\n",
       "  <thead>\n",
       "    <tr style=\"text-align: right;\">\n",
       "      <th></th>\n",
       "      <th>sentences</th>\n",
       "    </tr>\n",
       "  </thead>\n",
       "  <tbody>\n",
       "    <tr>\n",
       "      <th>0</th>\n",
       "      <td>Android is a mobile operating system developed...</td>\n",
       "    </tr>\n",
       "    <tr>\n",
       "      <th>1</th>\n",
       "      <td>Android has been the best-selling OS worldwide...</td>\n",
       "    </tr>\n",
       "    <tr>\n",
       "      <th>2</th>\n",
       "      <td>Google and Twitter made a deal in 2015 that ga...</td>\n",
       "    </tr>\n",
       "    <tr>\n",
       "      <th>3</th>\n",
       "      <td>Twitter is an online news and social networkin...</td>\n",
       "    </tr>\n",
       "    <tr>\n",
       "      <th>4</th>\n",
       "      <td>Before entering politics, Donald Trump was a d...</td>\n",
       "    </tr>\n",
       "    <tr>\n",
       "      <th>5</th>\n",
       "      <td>The 2018 FIFA World Cup is the 21st FIFA World...</td>\n",
       "    </tr>\n",
       "    <tr>\n",
       "      <th>6</th>\n",
       "      <td>This is the first World Cup to be held in East...</td>\n",
       "    </tr>\n",
       "    <tr>\n",
       "      <th>7</th>\n",
       "      <td>Show me the cheapest round trips from Dallas t...</td>\n",
       "    </tr>\n",
       "    <tr>\n",
       "      <th>8</th>\n",
       "      <td>I would like to see flights from Denver to Phi...</td>\n",
       "    </tr>\n",
       "    <tr>\n",
       "      <th>9</th>\n",
       "      <td>Show me the price of the flights leaving Atlan...</td>\n",
       "    </tr>\n",
       "    <tr>\n",
       "      <th>10</th>\n",
       "      <td>NASA invited social media users to experience ...</td>\n",
       "    </tr>\n",
       "  </tbody>\n",
       "</table>\n",
       "</div>"
      ],
      "text/plain": [
       "                                            sentences\n",
       "0   Android is a mobile operating system developed...\n",
       "1   Android has been the best-selling OS worldwide...\n",
       "2   Google and Twitter made a deal in 2015 that ga...\n",
       "3   Twitter is an online news and social networkin...\n",
       "4   Before entering politics, Donald Trump was a d...\n",
       "5   The 2018 FIFA World Cup is the 21st FIFA World...\n",
       "6   This is the first World Cup to be held in East...\n",
       "7   Show me the cheapest round trips from Dallas t...\n",
       "8   I would like to see flights from Denver to Phi...\n",
       "9   Show me the price of the flights leaving Atlan...\n",
       "10  NASA invited social media users to experience ..."
      ]
     },
     "execution_count": 274,
     "metadata": {},
     "output_type": "execute_result"
    }
   ],
   "source": [
    "test_df"
   ]
  },
  {
   "cell_type": "code",
   "execution_count": 276,
   "metadata": {},
   "outputs": [],
   "source": [
    "from nltk.tokenize import word_tokenize"
   ]
  },
  {
   "cell_type": "code",
   "execution_count": 277,
   "metadata": {},
   "outputs": [],
   "source": [
    "test_words=test_df.sentences.apply(lambda x : word_tokenize(x))"
   ]
  },
  {
   "cell_type": "code",
   "execution_count": 278,
   "metadata": {},
   "outputs": [
    {
     "data": {
      "text/plain": [
       "0     [Android, is, a, mobile, operating, system, de...\n",
       "1     [Android, has, been, the, best-selling, OS, wo...\n",
       "2     [Google, and, Twitter, made, a, deal, in, 2015...\n",
       "3     [Twitter, is, an, online, news, and, social, n...\n",
       "4     [Before, entering, politics, ,, Donald, Trump,...\n",
       "5     [The, 2018, FIFA, World, Cup, is, the, 21st, F...\n",
       "6     [This, is, the, first, World, Cup, to, be, hel...\n",
       "7     [Show, me, the, cheapest, round, trips, from, ...\n",
       "8     [I, would, like, to, see, flights, from, Denve...\n",
       "9     [Show, me, the, price, of, the, flights, leavi...\n",
       "10    [NASA, invited, social, media, users, to, expe...\n",
       "Name: sentences, dtype: object"
      ]
     },
     "execution_count": 278,
     "metadata": {},
     "output_type": "execute_result"
    }
   ],
   "source": [
    "test_words"
   ]
  },
  {
   "cell_type": "code",
   "execution_count": 279,
   "metadata": {},
   "outputs": [],
   "source": [
    "tagged_seq_vanilla_viterbi = Viterbi(test_words)"
   ]
  },
  {
   "cell_type": "code",
   "execution_count": 280,
   "metadata": {},
   "outputs": [],
   "source": [
    "df1 = pd.DataFrame(tagged_seq_vanilla_viterbi, columns =['word', 'tag_vanilla_viterbi']) "
   ]
  },
  {
   "cell_type": "code",
   "execution_count": 281,
   "metadata": {},
   "outputs": [],
   "source": [
    "tagged_seq_most_common_tag = Viterbi(test_words,modification ='most_common_tag')"
   ]
  },
  {
   "cell_type": "code",
   "execution_count": 282,
   "metadata": {},
   "outputs": [],
   "source": [
    "df2=pd.DataFrame(tagged_seq_most_common_tag, columns =['word', 'tag_most_common'])"
   ]
  },
  {
   "cell_type": "code",
   "execution_count": 283,
   "metadata": {},
   "outputs": [],
   "source": [
    "tagged_seq_rule_based = Viterbi(test_words,modification ='rule_based')"
   ]
  },
  {
   "cell_type": "code",
   "execution_count": 284,
   "metadata": {},
   "outputs": [],
   "source": [
    "df3=pd.DataFrame(tagged_seq_rule_based, columns =['word', 'tag_rule_based'])"
   ]
  },
  {
   "cell_type": "code",
   "execution_count": 285,
   "metadata": {},
   "outputs": [],
   "source": [
    "tagged_seq_laplace = Viterbi(test_words,modification ='laplace')"
   ]
  },
  {
   "cell_type": "code",
   "execution_count": 286,
   "metadata": {},
   "outputs": [],
   "source": [
    "df4=pd.DataFrame(tagged_seq_laplace, columns =['word', 'tag_laplace'])"
   ]
  },
  {
   "cell_type": "code",
   "execution_count": 287,
   "metadata": {},
   "outputs": [],
   "source": [
    "tagged_seq_no_emission = Viterbi(test_words,modification ='no_emission')"
   ]
  },
  {
   "cell_type": "code",
   "execution_count": 288,
   "metadata": {},
   "outputs": [],
   "source": [
    "df5=pd.DataFrame(tagged_seq_no_emission, columns =['word', 'tag_no_emission'])"
   ]
  },
  {
   "cell_type": "code",
   "execution_count": 289,
   "metadata": {},
   "outputs": [],
   "source": [
    "test_tags_df=pd.concat([df1.set_index('word'),df2.set_index('word'),df3.set_index('word'),df4.set_index('word'),df5.set_index('word')], axis=1, join='inner').reset_index()"
   ]
  },
  {
   "cell_type": "code",
   "execution_count": 290,
   "metadata": {},
   "outputs": [
    {
     "data": {
      "text/html": [
       "<div>\n",
       "<style scoped>\n",
       "    .dataframe tbody tr th:only-of-type {\n",
       "        vertical-align: middle;\n",
       "    }\n",
       "\n",
       "    .dataframe tbody tr th {\n",
       "        vertical-align: top;\n",
       "    }\n",
       "\n",
       "    .dataframe thead th {\n",
       "        text-align: right;\n",
       "    }\n",
       "</style>\n",
       "<table border=\"1\" class=\"dataframe\">\n",
       "  <thead>\n",
       "    <tr style=\"text-align: right;\">\n",
       "      <th></th>\n",
       "      <th>word</th>\n",
       "      <th>tag_vanilla_viterbi</th>\n",
       "      <th>tag_most_common</th>\n",
       "      <th>tag_rule_based</th>\n",
       "      <th>tag_laplace</th>\n",
       "      <th>tag_no_emission</th>\n",
       "    </tr>\n",
       "  </thead>\n",
       "  <tbody>\n",
       "    <tr>\n",
       "      <th>0</th>\n",
       "      <td>Android</td>\n",
       "      <td>ADV</td>\n",
       "      <td>NOUN</td>\n",
       "      <td>NOUN</td>\n",
       "      <td>DET</td>\n",
       "      <td>NOUN</td>\n",
       "    </tr>\n",
       "    <tr>\n",
       "      <th>1</th>\n",
       "      <td>is</td>\n",
       "      <td>VERB</td>\n",
       "      <td>VERB</td>\n",
       "      <td>VERB</td>\n",
       "      <td>VERB</td>\n",
       "      <td>VERB</td>\n",
       "    </tr>\n",
       "    <tr>\n",
       "      <th>2</th>\n",
       "      <td>a</td>\n",
       "      <td>DET</td>\n",
       "      <td>DET</td>\n",
       "      <td>DET</td>\n",
       "      <td>DET</td>\n",
       "      <td>DET</td>\n",
       "    </tr>\n",
       "    <tr>\n",
       "      <th>3</th>\n",
       "      <td>mobile</td>\n",
       "      <td>ADJ</td>\n",
       "      <td>ADJ</td>\n",
       "      <td>ADJ</td>\n",
       "      <td>DET</td>\n",
       "      <td>ADJ</td>\n",
       "    </tr>\n",
       "    <tr>\n",
       "      <th>4</th>\n",
       "      <td>operating</td>\n",
       "      <td>NOUN</td>\n",
       "      <td>NOUN</td>\n",
       "      <td>NOUN</td>\n",
       "      <td>NOUN</td>\n",
       "      <td>NOUN</td>\n",
       "    </tr>\n",
       "    <tr>\n",
       "      <th>...</th>\n",
       "      <td>...</td>\n",
       "      <td>...</td>\n",
       "      <td>...</td>\n",
       "      <td>...</td>\n",
       "      <td>...</td>\n",
       "      <td>...</td>\n",
       "    </tr>\n",
       "    <tr>\n",
       "      <th>176</th>\n",
       "      <td>launch</td>\n",
       "      <td>NOUN</td>\n",
       "      <td>NOUN</td>\n",
       "      <td>NOUN</td>\n",
       "      <td>NOUN</td>\n",
       "      <td>NOUN</td>\n",
       "    </tr>\n",
       "    <tr>\n",
       "      <th>177</th>\n",
       "      <td>of</td>\n",
       "      <td>ADP</td>\n",
       "      <td>ADP</td>\n",
       "      <td>ADP</td>\n",
       "      <td>ADP</td>\n",
       "      <td>ADP</td>\n",
       "    </tr>\n",
       "    <tr>\n",
       "      <th>178</th>\n",
       "      <td>ICESAT-2</td>\n",
       "      <td>ADV</td>\n",
       "      <td>NOUN</td>\n",
       "      <td>NOUN</td>\n",
       "      <td>DET</td>\n",
       "      <td>DET</td>\n",
       "    </tr>\n",
       "    <tr>\n",
       "      <th>179</th>\n",
       "      <td>Satellite</td>\n",
       "      <td>ADV</td>\n",
       "      <td>NOUN</td>\n",
       "      <td>NOUN</td>\n",
       "      <td>NOUN</td>\n",
       "      <td>NOUN</td>\n",
       "    </tr>\n",
       "    <tr>\n",
       "      <th>180</th>\n",
       "      <td>.</td>\n",
       "      <td>.</td>\n",
       "      <td>.</td>\n",
       "      <td>.</td>\n",
       "      <td>.</td>\n",
       "      <td>.</td>\n",
       "    </tr>\n",
       "  </tbody>\n",
       "</table>\n",
       "<p>181 rows × 6 columns</p>\n",
       "</div>"
      ],
      "text/plain": [
       "          word tag_vanilla_viterbi tag_most_common tag_rule_based tag_laplace  \\\n",
       "0      Android                 ADV            NOUN           NOUN         DET   \n",
       "1           is                VERB            VERB           VERB        VERB   \n",
       "2            a                 DET             DET            DET         DET   \n",
       "3       mobile                 ADJ             ADJ            ADJ         DET   \n",
       "4    operating                NOUN            NOUN           NOUN        NOUN   \n",
       "..         ...                 ...             ...            ...         ...   \n",
       "176     launch                NOUN            NOUN           NOUN        NOUN   \n",
       "177         of                 ADP             ADP            ADP         ADP   \n",
       "178   ICESAT-2                 ADV            NOUN           NOUN         DET   \n",
       "179  Satellite                 ADV            NOUN           NOUN        NOUN   \n",
       "180          .                   .               .              .           .   \n",
       "\n",
       "    tag_no_emission  \n",
       "0              NOUN  \n",
       "1              VERB  \n",
       "2               DET  \n",
       "3               ADJ  \n",
       "4              NOUN  \n",
       "..              ...  \n",
       "176            NOUN  \n",
       "177             ADP  \n",
       "178             DET  \n",
       "179            NOUN  \n",
       "180               .  \n",
       "\n",
       "[181 rows x 6 columns]"
      ]
     },
     "execution_count": 290,
     "metadata": {},
     "output_type": "execute_result"
    }
   ],
   "source": [
    "test_tags_df"
   ]
  },
  {
   "cell_type": "code",
   "execution_count": 291,
   "metadata": {},
   "outputs": [
    {
     "data": {
      "text/html": [
       "<div>\n",
       "<style scoped>\n",
       "    .dataframe tbody tr th:only-of-type {\n",
       "        vertical-align: middle;\n",
       "    }\n",
       "\n",
       "    .dataframe tbody tr th {\n",
       "        vertical-align: top;\n",
       "    }\n",
       "\n",
       "    .dataframe thead th {\n",
       "        text-align: right;\n",
       "    }\n",
       "</style>\n",
       "<table border=\"1\" class=\"dataframe\">\n",
       "  <thead>\n",
       "    <tr style=\"text-align: right;\">\n",
       "      <th></th>\n",
       "      <th>word</th>\n",
       "      <th>tag_vanilla_viterbi</th>\n",
       "      <th>tag_most_common</th>\n",
       "      <th>tag_rule_based</th>\n",
       "      <th>tag_laplace</th>\n",
       "      <th>tag_no_emission</th>\n",
       "    </tr>\n",
       "  </thead>\n",
       "  <tbody>\n",
       "    <tr>\n",
       "      <th>0</th>\n",
       "      <td>Android</td>\n",
       "      <td>ADV</td>\n",
       "      <td>NOUN</td>\n",
       "      <td>NOUN</td>\n",
       "      <td>DET</td>\n",
       "      <td>NOUN</td>\n",
       "    </tr>\n",
       "    <tr>\n",
       "      <th>8</th>\n",
       "      <td>Google</td>\n",
       "      <td>ADV</td>\n",
       "      <td>NOUN</td>\n",
       "      <td>NOUN</td>\n",
       "      <td>DET</td>\n",
       "      <td>NOUN</td>\n",
       "    </tr>\n",
       "    <tr>\n",
       "      <th>10</th>\n",
       "      <td>Android</td>\n",
       "      <td>ADV</td>\n",
       "      <td>NOUN</td>\n",
       "      <td>NOUN</td>\n",
       "      <td>DET</td>\n",
       "      <td>NOUN</td>\n",
       "    </tr>\n",
       "    <tr>\n",
       "      <th>15</th>\n",
       "      <td>OS</td>\n",
       "      <td>ADV</td>\n",
       "      <td>NOUN</td>\n",
       "      <td>NOUN</td>\n",
       "      <td>NOUN</td>\n",
       "      <td>NOUN</td>\n",
       "    </tr>\n",
       "    <tr>\n",
       "      <th>16</th>\n",
       "      <td>worldwide</td>\n",
       "      <td>ADV</td>\n",
       "      <td>NOUN</td>\n",
       "      <td>NOUN</td>\n",
       "      <td>.</td>\n",
       "      <td>NOUN</td>\n",
       "    </tr>\n",
       "    <tr>\n",
       "      <th>18</th>\n",
       "      <td>smartphones</td>\n",
       "      <td>ADV</td>\n",
       "      <td>NOUN</td>\n",
       "      <td>NOUN</td>\n",
       "      <td>DET</td>\n",
       "      <td>DET</td>\n",
       "    </tr>\n",
       "    <tr>\n",
       "      <th>20</th>\n",
       "      <td>2011</td>\n",
       "      <td>ADV</td>\n",
       "      <td>NOUN</td>\n",
       "      <td>NUM</td>\n",
       "      <td>DET</td>\n",
       "      <td>DET</td>\n",
       "    </tr>\n",
       "    <tr>\n",
       "      <th>25</th>\n",
       "      <td>2013</td>\n",
       "      <td>ADV</td>\n",
       "      <td>NOUN</td>\n",
       "      <td>NUM</td>\n",
       "      <td>DET</td>\n",
       "      <td>DET</td>\n",
       "    </tr>\n",
       "    <tr>\n",
       "      <th>27</th>\n",
       "      <td>Google</td>\n",
       "      <td>ADV</td>\n",
       "      <td>NOUN</td>\n",
       "      <td>NOUN</td>\n",
       "      <td>DET</td>\n",
       "      <td>NOUN</td>\n",
       "    </tr>\n",
       "    <tr>\n",
       "      <th>29</th>\n",
       "      <td>Twitter</td>\n",
       "      <td>ADV</td>\n",
       "      <td>NOUN</td>\n",
       "      <td>NOUN</td>\n",
       "      <td>NOUN</td>\n",
       "      <td>NOUN</td>\n",
       "    </tr>\n",
       "    <tr>\n",
       "      <th>34</th>\n",
       "      <td>2015</td>\n",
       "      <td>ADV</td>\n",
       "      <td>NOUN</td>\n",
       "      <td>NUM</td>\n",
       "      <td>DET</td>\n",
       "      <td>DET</td>\n",
       "    </tr>\n",
       "    <tr>\n",
       "      <th>37</th>\n",
       "      <td>Google</td>\n",
       "      <td>ADV</td>\n",
       "      <td>NOUN</td>\n",
       "      <td>NOUN</td>\n",
       "      <td>NOUN</td>\n",
       "      <td>X</td>\n",
       "    </tr>\n",
       "    <tr>\n",
       "      <th>40</th>\n",
       "      <td>Twitter</td>\n",
       "      <td>ADV</td>\n",
       "      <td>NOUN</td>\n",
       "      <td>NOUN</td>\n",
       "      <td>VERB</td>\n",
       "      <td>VERB</td>\n",
       "    </tr>\n",
       "    <tr>\n",
       "      <th>42</th>\n",
       "      <td>firehose</td>\n",
       "      <td>ADV</td>\n",
       "      <td>NOUN</td>\n",
       "      <td>NOUN</td>\n",
       "      <td>VERB</td>\n",
       "      <td>VERB</td>\n",
       "    </tr>\n",
       "    <tr>\n",
       "      <th>44</th>\n",
       "      <td>Twitter</td>\n",
       "      <td>ADV</td>\n",
       "      <td>NOUN</td>\n",
       "      <td>NOUN</td>\n",
       "      <td>DET</td>\n",
       "      <td>NOUN</td>\n",
       "    </tr>\n",
       "    <tr>\n",
       "      <th>47</th>\n",
       "      <td>online</td>\n",
       "      <td>ADV</td>\n",
       "      <td>NOUN</td>\n",
       "      <td>NOUN</td>\n",
       "      <td>NOUN</td>\n",
       "      <td>NOUN</td>\n",
       "    </tr>\n",
       "    <tr>\n",
       "      <th>58</th>\n",
       "      <td>interact</td>\n",
       "      <td>ADV</td>\n",
       "      <td>NOUN</td>\n",
       "      <td>NOUN</td>\n",
       "      <td>NOUN</td>\n",
       "      <td>NOUN</td>\n",
       "    </tr>\n",
       "    <tr>\n",
       "      <th>60</th>\n",
       "      <td>messages</td>\n",
       "      <td>ADV</td>\n",
       "      <td>NOUN</td>\n",
       "      <td>NOUN</td>\n",
       "      <td>DET</td>\n",
       "      <td>DET</td>\n",
       "    </tr>\n",
       "    <tr>\n",
       "      <th>63</th>\n",
       "      <td>tweets</td>\n",
       "      <td>ADV</td>\n",
       "      <td>NOUN</td>\n",
       "      <td>NOUN</td>\n",
       "      <td>DET</td>\n",
       "      <td>DET</td>\n",
       "    </tr>\n",
       "    <tr>\n",
       "      <th>73</th>\n",
       "      <td>domineering</td>\n",
       "      <td>ADV</td>\n",
       "      <td>NOUN</td>\n",
       "      <td>VERB</td>\n",
       "      <td>NOUN</td>\n",
       "      <td>NOUN</td>\n",
       "    </tr>\n",
       "    <tr>\n",
       "      <th>78</th>\n",
       "      <td>personality</td>\n",
       "      <td>ADV</td>\n",
       "      <td>NOUN</td>\n",
       "      <td>NOUN</td>\n",
       "      <td>.</td>\n",
       "      <td>NOUN</td>\n",
       "    </tr>\n",
       "    <tr>\n",
       "      <th>81</th>\n",
       "      <td>2018</td>\n",
       "      <td>ADV</td>\n",
       "      <td>NOUN</td>\n",
       "      <td>NUM</td>\n",
       "      <td>NOUN</td>\n",
       "      <td>NOUN</td>\n",
       "    </tr>\n",
       "    <tr>\n",
       "      <th>82</th>\n",
       "      <td>FIFA</td>\n",
       "      <td>ADV</td>\n",
       "      <td>NOUN</td>\n",
       "      <td>NOUN</td>\n",
       "      <td>.</td>\n",
       "      <td>NOUN</td>\n",
       "    </tr>\n",
       "    <tr>\n",
       "      <th>84</th>\n",
       "      <td>Cup</td>\n",
       "      <td>ADV</td>\n",
       "      <td>NOUN</td>\n",
       "      <td>NOUN</td>\n",
       "      <td>.</td>\n",
       "      <td>NOUN</td>\n",
       "    </tr>\n",
       "    <tr>\n",
       "      <th>87</th>\n",
       "      <td>21st</td>\n",
       "      <td>ADV</td>\n",
       "      <td>NOUN</td>\n",
       "      <td>NOUN</td>\n",
       "      <td>NOUN</td>\n",
       "      <td>NOUN</td>\n",
       "    </tr>\n",
       "    <tr>\n",
       "      <th>88</th>\n",
       "      <td>FIFA</td>\n",
       "      <td>ADV</td>\n",
       "      <td>NOUN</td>\n",
       "      <td>NOUN</td>\n",
       "      <td>.</td>\n",
       "      <td>NOUN</td>\n",
       "    </tr>\n",
       "    <tr>\n",
       "      <th>90</th>\n",
       "      <td>Cup</td>\n",
       "      <td>ADV</td>\n",
       "      <td>NOUN</td>\n",
       "      <td>NOUN</td>\n",
       "      <td>.</td>\n",
       "      <td>NOUN</td>\n",
       "    </tr>\n",
       "    <tr>\n",
       "      <th>95</th>\n",
       "      <td>tournament</td>\n",
       "      <td>ADV</td>\n",
       "      <td>NOUN</td>\n",
       "      <td>NOUN</td>\n",
       "      <td>.</td>\n",
       "      <td>NOUN</td>\n",
       "    </tr>\n",
       "    <tr>\n",
       "      <th>96</th>\n",
       "      <td>contested</td>\n",
       "      <td>ADV</td>\n",
       "      <td>NOUN</td>\n",
       "      <td>VERB</td>\n",
       "      <td>DET</td>\n",
       "      <td>NOUN</td>\n",
       "    </tr>\n",
       "    <tr>\n",
       "      <th>107</th>\n",
       "      <td>Cup</td>\n",
       "      <td>ADV</td>\n",
       "      <td>NOUN</td>\n",
       "      <td>NOUN</td>\n",
       "      <td>.</td>\n",
       "      <td>NOUN</td>\n",
       "    </tr>\n",
       "    <tr>\n",
       "      <th>116</th>\n",
       "      <td>11th</td>\n",
       "      <td>ADV</td>\n",
       "      <td>NOUN</td>\n",
       "      <td>NOUN</td>\n",
       "      <td>NOUN</td>\n",
       "      <td>NOUN</td>\n",
       "    </tr>\n",
       "    <tr>\n",
       "      <th>131</th>\n",
       "      <td>trips</td>\n",
       "      <td>ADV</td>\n",
       "      <td>NOUN</td>\n",
       "      <td>NOUN</td>\n",
       "      <td>.</td>\n",
       "      <td>NOUN</td>\n",
       "    </tr>\n",
       "    <tr>\n",
       "      <th>143</th>\n",
       "      <td>Denver</td>\n",
       "      <td>ADV</td>\n",
       "      <td>NOUN</td>\n",
       "      <td>NOUN</td>\n",
       "      <td>DET</td>\n",
       "      <td>DET</td>\n",
       "    </tr>\n",
       "    <tr>\n",
       "      <th>163</th>\n",
       "      <td>arriving</td>\n",
       "      <td>ADV</td>\n",
       "      <td>NOUN</td>\n",
       "      <td>VERB</td>\n",
       "      <td>NOUN</td>\n",
       "      <td>NOUN</td>\n",
       "    </tr>\n",
       "    <tr>\n",
       "      <th>168</th>\n",
       "      <td>NASA</td>\n",
       "      <td>ADV</td>\n",
       "      <td>NOUN</td>\n",
       "      <td>NOUN</td>\n",
       "      <td>DET</td>\n",
       "      <td>NOUN</td>\n",
       "    </tr>\n",
       "    <tr>\n",
       "      <th>169</th>\n",
       "      <td>invited</td>\n",
       "      <td>ADV</td>\n",
       "      <td>NOUN</td>\n",
       "      <td>VERB</td>\n",
       "      <td>NOUN</td>\n",
       "      <td>NOUN</td>\n",
       "    </tr>\n",
       "    <tr>\n",
       "      <th>178</th>\n",
       "      <td>ICESAT-2</td>\n",
       "      <td>ADV</td>\n",
       "      <td>NOUN</td>\n",
       "      <td>NOUN</td>\n",
       "      <td>DET</td>\n",
       "      <td>DET</td>\n",
       "    </tr>\n",
       "    <tr>\n",
       "      <th>179</th>\n",
       "      <td>Satellite</td>\n",
       "      <td>ADV</td>\n",
       "      <td>NOUN</td>\n",
       "      <td>NOUN</td>\n",
       "      <td>NOUN</td>\n",
       "      <td>NOUN</td>\n",
       "    </tr>\n",
       "  </tbody>\n",
       "</table>\n",
       "</div>"
      ],
      "text/plain": [
       "            word tag_vanilla_viterbi tag_most_common tag_rule_based  \\\n",
       "0        Android                 ADV            NOUN           NOUN   \n",
       "8         Google                 ADV            NOUN           NOUN   \n",
       "10       Android                 ADV            NOUN           NOUN   \n",
       "15            OS                 ADV            NOUN           NOUN   \n",
       "16     worldwide                 ADV            NOUN           NOUN   \n",
       "18   smartphones                 ADV            NOUN           NOUN   \n",
       "20          2011                 ADV            NOUN            NUM   \n",
       "25          2013                 ADV            NOUN            NUM   \n",
       "27        Google                 ADV            NOUN           NOUN   \n",
       "29       Twitter                 ADV            NOUN           NOUN   \n",
       "34          2015                 ADV            NOUN            NUM   \n",
       "37        Google                 ADV            NOUN           NOUN   \n",
       "40       Twitter                 ADV            NOUN           NOUN   \n",
       "42      firehose                 ADV            NOUN           NOUN   \n",
       "44       Twitter                 ADV            NOUN           NOUN   \n",
       "47        online                 ADV            NOUN           NOUN   \n",
       "58      interact                 ADV            NOUN           NOUN   \n",
       "60      messages                 ADV            NOUN           NOUN   \n",
       "63        tweets                 ADV            NOUN           NOUN   \n",
       "73   domineering                 ADV            NOUN           VERB   \n",
       "78   personality                 ADV            NOUN           NOUN   \n",
       "81          2018                 ADV            NOUN            NUM   \n",
       "82          FIFA                 ADV            NOUN           NOUN   \n",
       "84           Cup                 ADV            NOUN           NOUN   \n",
       "87          21st                 ADV            NOUN           NOUN   \n",
       "88          FIFA                 ADV            NOUN           NOUN   \n",
       "90           Cup                 ADV            NOUN           NOUN   \n",
       "95    tournament                 ADV            NOUN           NOUN   \n",
       "96     contested                 ADV            NOUN           VERB   \n",
       "107          Cup                 ADV            NOUN           NOUN   \n",
       "116         11th                 ADV            NOUN           NOUN   \n",
       "131        trips                 ADV            NOUN           NOUN   \n",
       "143       Denver                 ADV            NOUN           NOUN   \n",
       "163     arriving                 ADV            NOUN           VERB   \n",
       "168         NASA                 ADV            NOUN           NOUN   \n",
       "169      invited                 ADV            NOUN           VERB   \n",
       "178     ICESAT-2                 ADV            NOUN           NOUN   \n",
       "179    Satellite                 ADV            NOUN           NOUN   \n",
       "\n",
       "    tag_laplace tag_no_emission  \n",
       "0           DET            NOUN  \n",
       "8           DET            NOUN  \n",
       "10          DET            NOUN  \n",
       "15         NOUN            NOUN  \n",
       "16            .            NOUN  \n",
       "18          DET             DET  \n",
       "20          DET             DET  \n",
       "25          DET             DET  \n",
       "27          DET            NOUN  \n",
       "29         NOUN            NOUN  \n",
       "34          DET             DET  \n",
       "37         NOUN               X  \n",
       "40         VERB            VERB  \n",
       "42         VERB            VERB  \n",
       "44          DET            NOUN  \n",
       "47         NOUN            NOUN  \n",
       "58         NOUN            NOUN  \n",
       "60          DET             DET  \n",
       "63          DET             DET  \n",
       "73         NOUN            NOUN  \n",
       "78            .            NOUN  \n",
       "81         NOUN            NOUN  \n",
       "82            .            NOUN  \n",
       "84            .            NOUN  \n",
       "87         NOUN            NOUN  \n",
       "88            .            NOUN  \n",
       "90            .            NOUN  \n",
       "95            .            NOUN  \n",
       "96          DET            NOUN  \n",
       "107           .            NOUN  \n",
       "116        NOUN            NOUN  \n",
       "131           .            NOUN  \n",
       "143         DET             DET  \n",
       "163        NOUN            NOUN  \n",
       "168         DET            NOUN  \n",
       "169        NOUN            NOUN  \n",
       "178         DET             DET  \n",
       "179        NOUN            NOUN  "
      ]
     },
     "execution_count": 291,
     "metadata": {},
     "output_type": "execute_result"
    }
   ],
   "source": [
    "test_tags_df[~(test_tags_df.tag_vanilla_viterbi==test_tags_df.tag_most_common)]"
   ]
  },
  {
   "cell_type": "code",
   "execution_count": 292,
   "metadata": {},
   "outputs": [
    {
     "data": {
      "text/html": [
       "<div>\n",
       "<style scoped>\n",
       "    .dataframe tbody tr th:only-of-type {\n",
       "        vertical-align: middle;\n",
       "    }\n",
       "\n",
       "    .dataframe tbody tr th {\n",
       "        vertical-align: top;\n",
       "    }\n",
       "\n",
       "    .dataframe thead th {\n",
       "        text-align: right;\n",
       "    }\n",
       "</style>\n",
       "<table border=\"1\" class=\"dataframe\">\n",
       "  <thead>\n",
       "    <tr style=\"text-align: right;\">\n",
       "      <th></th>\n",
       "      <th>word</th>\n",
       "      <th>tag_vanilla_viterbi</th>\n",
       "      <th>tag_most_common</th>\n",
       "      <th>tag_rule_based</th>\n",
       "      <th>tag_laplace</th>\n",
       "      <th>tag_no_emission</th>\n",
       "    </tr>\n",
       "  </thead>\n",
       "  <tbody>\n",
       "    <tr>\n",
       "      <th>0</th>\n",
       "      <td>Android</td>\n",
       "      <td>ADV</td>\n",
       "      <td>NOUN</td>\n",
       "      <td>NOUN</td>\n",
       "      <td>DET</td>\n",
       "      <td>NOUN</td>\n",
       "    </tr>\n",
       "    <tr>\n",
       "      <th>8</th>\n",
       "      <td>Google</td>\n",
       "      <td>ADV</td>\n",
       "      <td>NOUN</td>\n",
       "      <td>NOUN</td>\n",
       "      <td>DET</td>\n",
       "      <td>NOUN</td>\n",
       "    </tr>\n",
       "    <tr>\n",
       "      <th>10</th>\n",
       "      <td>Android</td>\n",
       "      <td>ADV</td>\n",
       "      <td>NOUN</td>\n",
       "      <td>NOUN</td>\n",
       "      <td>DET</td>\n",
       "      <td>NOUN</td>\n",
       "    </tr>\n",
       "    <tr>\n",
       "      <th>15</th>\n",
       "      <td>OS</td>\n",
       "      <td>ADV</td>\n",
       "      <td>NOUN</td>\n",
       "      <td>NOUN</td>\n",
       "      <td>NOUN</td>\n",
       "      <td>NOUN</td>\n",
       "    </tr>\n",
       "    <tr>\n",
       "      <th>16</th>\n",
       "      <td>worldwide</td>\n",
       "      <td>ADV</td>\n",
       "      <td>NOUN</td>\n",
       "      <td>NOUN</td>\n",
       "      <td>.</td>\n",
       "      <td>NOUN</td>\n",
       "    </tr>\n",
       "    <tr>\n",
       "      <th>18</th>\n",
       "      <td>smartphones</td>\n",
       "      <td>ADV</td>\n",
       "      <td>NOUN</td>\n",
       "      <td>NOUN</td>\n",
       "      <td>DET</td>\n",
       "      <td>DET</td>\n",
       "    </tr>\n",
       "    <tr>\n",
       "      <th>20</th>\n",
       "      <td>2011</td>\n",
       "      <td>ADV</td>\n",
       "      <td>NOUN</td>\n",
       "      <td>NUM</td>\n",
       "      <td>DET</td>\n",
       "      <td>DET</td>\n",
       "    </tr>\n",
       "    <tr>\n",
       "      <th>25</th>\n",
       "      <td>2013</td>\n",
       "      <td>ADV</td>\n",
       "      <td>NOUN</td>\n",
       "      <td>NUM</td>\n",
       "      <td>DET</td>\n",
       "      <td>DET</td>\n",
       "    </tr>\n",
       "    <tr>\n",
       "      <th>27</th>\n",
       "      <td>Google</td>\n",
       "      <td>ADV</td>\n",
       "      <td>NOUN</td>\n",
       "      <td>NOUN</td>\n",
       "      <td>DET</td>\n",
       "      <td>NOUN</td>\n",
       "    </tr>\n",
       "    <tr>\n",
       "      <th>29</th>\n",
       "      <td>Twitter</td>\n",
       "      <td>ADV</td>\n",
       "      <td>NOUN</td>\n",
       "      <td>NOUN</td>\n",
       "      <td>NOUN</td>\n",
       "      <td>NOUN</td>\n",
       "    </tr>\n",
       "    <tr>\n",
       "      <th>34</th>\n",
       "      <td>2015</td>\n",
       "      <td>ADV</td>\n",
       "      <td>NOUN</td>\n",
       "      <td>NUM</td>\n",
       "      <td>DET</td>\n",
       "      <td>DET</td>\n",
       "    </tr>\n",
       "    <tr>\n",
       "      <th>37</th>\n",
       "      <td>Google</td>\n",
       "      <td>ADV</td>\n",
       "      <td>NOUN</td>\n",
       "      <td>NOUN</td>\n",
       "      <td>NOUN</td>\n",
       "      <td>X</td>\n",
       "    </tr>\n",
       "    <tr>\n",
       "      <th>40</th>\n",
       "      <td>Twitter</td>\n",
       "      <td>ADV</td>\n",
       "      <td>NOUN</td>\n",
       "      <td>NOUN</td>\n",
       "      <td>VERB</td>\n",
       "      <td>VERB</td>\n",
       "    </tr>\n",
       "    <tr>\n",
       "      <th>42</th>\n",
       "      <td>firehose</td>\n",
       "      <td>ADV</td>\n",
       "      <td>NOUN</td>\n",
       "      <td>NOUN</td>\n",
       "      <td>VERB</td>\n",
       "      <td>VERB</td>\n",
       "    </tr>\n",
       "    <tr>\n",
       "      <th>44</th>\n",
       "      <td>Twitter</td>\n",
       "      <td>ADV</td>\n",
       "      <td>NOUN</td>\n",
       "      <td>NOUN</td>\n",
       "      <td>DET</td>\n",
       "      <td>NOUN</td>\n",
       "    </tr>\n",
       "    <tr>\n",
       "      <th>47</th>\n",
       "      <td>online</td>\n",
       "      <td>ADV</td>\n",
       "      <td>NOUN</td>\n",
       "      <td>NOUN</td>\n",
       "      <td>NOUN</td>\n",
       "      <td>NOUN</td>\n",
       "    </tr>\n",
       "    <tr>\n",
       "      <th>58</th>\n",
       "      <td>interact</td>\n",
       "      <td>ADV</td>\n",
       "      <td>NOUN</td>\n",
       "      <td>NOUN</td>\n",
       "      <td>NOUN</td>\n",
       "      <td>NOUN</td>\n",
       "    </tr>\n",
       "    <tr>\n",
       "      <th>60</th>\n",
       "      <td>messages</td>\n",
       "      <td>ADV</td>\n",
       "      <td>NOUN</td>\n",
       "      <td>NOUN</td>\n",
       "      <td>DET</td>\n",
       "      <td>DET</td>\n",
       "    </tr>\n",
       "    <tr>\n",
       "      <th>63</th>\n",
       "      <td>tweets</td>\n",
       "      <td>ADV</td>\n",
       "      <td>NOUN</td>\n",
       "      <td>NOUN</td>\n",
       "      <td>DET</td>\n",
       "      <td>DET</td>\n",
       "    </tr>\n",
       "    <tr>\n",
       "      <th>73</th>\n",
       "      <td>domineering</td>\n",
       "      <td>ADV</td>\n",
       "      <td>NOUN</td>\n",
       "      <td>VERB</td>\n",
       "      <td>NOUN</td>\n",
       "      <td>NOUN</td>\n",
       "    </tr>\n",
       "    <tr>\n",
       "      <th>78</th>\n",
       "      <td>personality</td>\n",
       "      <td>ADV</td>\n",
       "      <td>NOUN</td>\n",
       "      <td>NOUN</td>\n",
       "      <td>.</td>\n",
       "      <td>NOUN</td>\n",
       "    </tr>\n",
       "    <tr>\n",
       "      <th>81</th>\n",
       "      <td>2018</td>\n",
       "      <td>ADV</td>\n",
       "      <td>NOUN</td>\n",
       "      <td>NUM</td>\n",
       "      <td>NOUN</td>\n",
       "      <td>NOUN</td>\n",
       "    </tr>\n",
       "    <tr>\n",
       "      <th>82</th>\n",
       "      <td>FIFA</td>\n",
       "      <td>ADV</td>\n",
       "      <td>NOUN</td>\n",
       "      <td>NOUN</td>\n",
       "      <td>.</td>\n",
       "      <td>NOUN</td>\n",
       "    </tr>\n",
       "    <tr>\n",
       "      <th>84</th>\n",
       "      <td>Cup</td>\n",
       "      <td>ADV</td>\n",
       "      <td>NOUN</td>\n",
       "      <td>NOUN</td>\n",
       "      <td>.</td>\n",
       "      <td>NOUN</td>\n",
       "    </tr>\n",
       "    <tr>\n",
       "      <th>87</th>\n",
       "      <td>21st</td>\n",
       "      <td>ADV</td>\n",
       "      <td>NOUN</td>\n",
       "      <td>NOUN</td>\n",
       "      <td>NOUN</td>\n",
       "      <td>NOUN</td>\n",
       "    </tr>\n",
       "    <tr>\n",
       "      <th>88</th>\n",
       "      <td>FIFA</td>\n",
       "      <td>ADV</td>\n",
       "      <td>NOUN</td>\n",
       "      <td>NOUN</td>\n",
       "      <td>.</td>\n",
       "      <td>NOUN</td>\n",
       "    </tr>\n",
       "    <tr>\n",
       "      <th>90</th>\n",
       "      <td>Cup</td>\n",
       "      <td>ADV</td>\n",
       "      <td>NOUN</td>\n",
       "      <td>NOUN</td>\n",
       "      <td>.</td>\n",
       "      <td>NOUN</td>\n",
       "    </tr>\n",
       "    <tr>\n",
       "      <th>95</th>\n",
       "      <td>tournament</td>\n",
       "      <td>ADV</td>\n",
       "      <td>NOUN</td>\n",
       "      <td>NOUN</td>\n",
       "      <td>.</td>\n",
       "      <td>NOUN</td>\n",
       "    </tr>\n",
       "    <tr>\n",
       "      <th>96</th>\n",
       "      <td>contested</td>\n",
       "      <td>ADV</td>\n",
       "      <td>NOUN</td>\n",
       "      <td>VERB</td>\n",
       "      <td>DET</td>\n",
       "      <td>NOUN</td>\n",
       "    </tr>\n",
       "    <tr>\n",
       "      <th>107</th>\n",
       "      <td>Cup</td>\n",
       "      <td>ADV</td>\n",
       "      <td>NOUN</td>\n",
       "      <td>NOUN</td>\n",
       "      <td>.</td>\n",
       "      <td>NOUN</td>\n",
       "    </tr>\n",
       "    <tr>\n",
       "      <th>116</th>\n",
       "      <td>11th</td>\n",
       "      <td>ADV</td>\n",
       "      <td>NOUN</td>\n",
       "      <td>NOUN</td>\n",
       "      <td>NOUN</td>\n",
       "      <td>NOUN</td>\n",
       "    </tr>\n",
       "    <tr>\n",
       "      <th>131</th>\n",
       "      <td>trips</td>\n",
       "      <td>ADV</td>\n",
       "      <td>NOUN</td>\n",
       "      <td>NOUN</td>\n",
       "      <td>.</td>\n",
       "      <td>NOUN</td>\n",
       "    </tr>\n",
       "    <tr>\n",
       "      <th>143</th>\n",
       "      <td>Denver</td>\n",
       "      <td>ADV</td>\n",
       "      <td>NOUN</td>\n",
       "      <td>NOUN</td>\n",
       "      <td>DET</td>\n",
       "      <td>DET</td>\n",
       "    </tr>\n",
       "    <tr>\n",
       "      <th>163</th>\n",
       "      <td>arriving</td>\n",
       "      <td>ADV</td>\n",
       "      <td>NOUN</td>\n",
       "      <td>VERB</td>\n",
       "      <td>NOUN</td>\n",
       "      <td>NOUN</td>\n",
       "    </tr>\n",
       "    <tr>\n",
       "      <th>168</th>\n",
       "      <td>NASA</td>\n",
       "      <td>ADV</td>\n",
       "      <td>NOUN</td>\n",
       "      <td>NOUN</td>\n",
       "      <td>DET</td>\n",
       "      <td>NOUN</td>\n",
       "    </tr>\n",
       "    <tr>\n",
       "      <th>169</th>\n",
       "      <td>invited</td>\n",
       "      <td>ADV</td>\n",
       "      <td>NOUN</td>\n",
       "      <td>VERB</td>\n",
       "      <td>NOUN</td>\n",
       "      <td>NOUN</td>\n",
       "    </tr>\n",
       "    <tr>\n",
       "      <th>178</th>\n",
       "      <td>ICESAT-2</td>\n",
       "      <td>ADV</td>\n",
       "      <td>NOUN</td>\n",
       "      <td>NOUN</td>\n",
       "      <td>DET</td>\n",
       "      <td>DET</td>\n",
       "    </tr>\n",
       "    <tr>\n",
       "      <th>179</th>\n",
       "      <td>Satellite</td>\n",
       "      <td>ADV</td>\n",
       "      <td>NOUN</td>\n",
       "      <td>NOUN</td>\n",
       "      <td>NOUN</td>\n",
       "      <td>NOUN</td>\n",
       "    </tr>\n",
       "  </tbody>\n",
       "</table>\n",
       "</div>"
      ],
      "text/plain": [
       "            word tag_vanilla_viterbi tag_most_common tag_rule_based  \\\n",
       "0        Android                 ADV            NOUN           NOUN   \n",
       "8         Google                 ADV            NOUN           NOUN   \n",
       "10       Android                 ADV            NOUN           NOUN   \n",
       "15            OS                 ADV            NOUN           NOUN   \n",
       "16     worldwide                 ADV            NOUN           NOUN   \n",
       "18   smartphones                 ADV            NOUN           NOUN   \n",
       "20          2011                 ADV            NOUN            NUM   \n",
       "25          2013                 ADV            NOUN            NUM   \n",
       "27        Google                 ADV            NOUN           NOUN   \n",
       "29       Twitter                 ADV            NOUN           NOUN   \n",
       "34          2015                 ADV            NOUN            NUM   \n",
       "37        Google                 ADV            NOUN           NOUN   \n",
       "40       Twitter                 ADV            NOUN           NOUN   \n",
       "42      firehose                 ADV            NOUN           NOUN   \n",
       "44       Twitter                 ADV            NOUN           NOUN   \n",
       "47        online                 ADV            NOUN           NOUN   \n",
       "58      interact                 ADV            NOUN           NOUN   \n",
       "60      messages                 ADV            NOUN           NOUN   \n",
       "63        tweets                 ADV            NOUN           NOUN   \n",
       "73   domineering                 ADV            NOUN           VERB   \n",
       "78   personality                 ADV            NOUN           NOUN   \n",
       "81          2018                 ADV            NOUN            NUM   \n",
       "82          FIFA                 ADV            NOUN           NOUN   \n",
       "84           Cup                 ADV            NOUN           NOUN   \n",
       "87          21st                 ADV            NOUN           NOUN   \n",
       "88          FIFA                 ADV            NOUN           NOUN   \n",
       "90           Cup                 ADV            NOUN           NOUN   \n",
       "95    tournament                 ADV            NOUN           NOUN   \n",
       "96     contested                 ADV            NOUN           VERB   \n",
       "107          Cup                 ADV            NOUN           NOUN   \n",
       "116         11th                 ADV            NOUN           NOUN   \n",
       "131        trips                 ADV            NOUN           NOUN   \n",
       "143       Denver                 ADV            NOUN           NOUN   \n",
       "163     arriving                 ADV            NOUN           VERB   \n",
       "168         NASA                 ADV            NOUN           NOUN   \n",
       "169      invited                 ADV            NOUN           VERB   \n",
       "178     ICESAT-2                 ADV            NOUN           NOUN   \n",
       "179    Satellite                 ADV            NOUN           NOUN   \n",
       "\n",
       "    tag_laplace tag_no_emission  \n",
       "0           DET            NOUN  \n",
       "8           DET            NOUN  \n",
       "10          DET            NOUN  \n",
       "15         NOUN            NOUN  \n",
       "16            .            NOUN  \n",
       "18          DET             DET  \n",
       "20          DET             DET  \n",
       "25          DET             DET  \n",
       "27          DET            NOUN  \n",
       "29         NOUN            NOUN  \n",
       "34          DET             DET  \n",
       "37         NOUN               X  \n",
       "40         VERB            VERB  \n",
       "42         VERB            VERB  \n",
       "44          DET            NOUN  \n",
       "47         NOUN            NOUN  \n",
       "58         NOUN            NOUN  \n",
       "60          DET             DET  \n",
       "63          DET             DET  \n",
       "73         NOUN            NOUN  \n",
       "78            .            NOUN  \n",
       "81         NOUN            NOUN  \n",
       "82            .            NOUN  \n",
       "84            .            NOUN  \n",
       "87         NOUN            NOUN  \n",
       "88            .            NOUN  \n",
       "90            .            NOUN  \n",
       "95            .            NOUN  \n",
       "96          DET            NOUN  \n",
       "107           .            NOUN  \n",
       "116        NOUN            NOUN  \n",
       "131           .            NOUN  \n",
       "143         DET             DET  \n",
       "163        NOUN            NOUN  \n",
       "168         DET            NOUN  \n",
       "169        NOUN            NOUN  \n",
       "178         DET             DET  \n",
       "179        NOUN            NOUN  "
      ]
     },
     "execution_count": 292,
     "metadata": {},
     "output_type": "execute_result"
    }
   ],
   "source": [
    "test_tags_df[~(test_tags_df.tag_vanilla_viterbi==test_tags_df.tag_rule_based)]"
   ]
  },
  {
   "cell_type": "code",
   "execution_count": 293,
   "metadata": {},
   "outputs": [
    {
     "data": {
      "text/plain": [
       "38"
      ]
     },
     "execution_count": 293,
     "metadata": {},
     "output_type": "execute_result"
    }
   ],
   "source": [
    "len(test_tags_df[~(test_tags_df.tag_vanilla_viterbi==test_tags_df.tag_rule_based)])"
   ]
  },
  {
   "cell_type": "markdown",
   "metadata": {},
   "source": [
    "### List down cases which were incorrectly tagged by original POS tagger and got corrected by your modifications"
   ]
  },
  {
   "cell_type": "markdown",
   "metadata": {},
   "source": [
    "1. Android,Google,Twitter,NASA,Satellite are tagged correctly as Nouns using most common /morphological cues\n",
    "2. contested,invited,arriving are tagged correctly as verb using morphological cues\n",
    "3. 2011,2015,2018,2013 are tagged correctly as NUM using morphological cues "
   ]
  },
  {
   "cell_type": "markdown",
   "metadata": {},
   "source": []
  },
  {
   "cell_type": "code",
   "execution_count": null,
   "metadata": {},
   "outputs": [],
   "source": []
  }
 ],
 "metadata": {
  "kernelspec": {
   "display_name": "Python 3",
   "language": "python",
   "name": "python3"
  },
  "language_info": {
   "codemirror_mode": {
    "name": "ipython",
    "version": 3
   },
   "file_extension": ".py",
   "mimetype": "text/x-python",
   "name": "python",
   "nbconvert_exporter": "python",
   "pygments_lexer": "ipython3",
   "version": "3.8.5"
  }
 },
 "nbformat": 4,
 "nbformat_minor": 2
}
